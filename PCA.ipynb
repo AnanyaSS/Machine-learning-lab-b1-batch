{
 "cells": [
  {
   "cell_type": "code",
   "execution_count": 4,
   "metadata": {},
   "outputs": [],
   "source": [
    "import pandas as pd"
   ]
  },
  {
   "cell_type": "code",
   "execution_count": 5,
   "metadata": {},
   "outputs": [],
   "source": [
    "data = pd.read_csv('/home/ignis/Downloads/iris(For PCA Program).csv')"
   ]
  },
  {
   "cell_type": "code",
   "execution_count": 6,
   "metadata": {},
   "outputs": [
    {
     "data": {
      "text/html": [
       "<div>\n",
       "<style scoped>\n",
       "    .dataframe tbody tr th:only-of-type {\n",
       "        vertical-align: middle;\n",
       "    }\n",
       "\n",
       "    .dataframe tbody tr th {\n",
       "        vertical-align: top;\n",
       "    }\n",
       "\n",
       "    .dataframe thead th {\n",
       "        text-align: right;\n",
       "    }\n",
       "</style>\n",
       "<table border=\"1\" class=\"dataframe\">\n",
       "  <thead>\n",
       "    <tr style=\"text-align: right;\">\n",
       "      <th></th>\n",
       "      <th>sepal length</th>\n",
       "      <th>sepal width</th>\n",
       "      <th>petal length</th>\n",
       "      <th>petal width</th>\n",
       "      <th>species</th>\n",
       "    </tr>\n",
       "  </thead>\n",
       "  <tbody>\n",
       "    <tr>\n",
       "      <th>0</th>\n",
       "      <td>5.1</td>\n",
       "      <td>3.5</td>\n",
       "      <td>1.4</td>\n",
       "      <td>0.2</td>\n",
       "      <td>1</td>\n",
       "    </tr>\n",
       "    <tr>\n",
       "      <th>1</th>\n",
       "      <td>4.9</td>\n",
       "      <td>3.0</td>\n",
       "      <td>1.4</td>\n",
       "      <td>0.2</td>\n",
       "      <td>1</td>\n",
       "    </tr>\n",
       "    <tr>\n",
       "      <th>2</th>\n",
       "      <td>4.7</td>\n",
       "      <td>3.2</td>\n",
       "      <td>1.3</td>\n",
       "      <td>0.2</td>\n",
       "      <td>1</td>\n",
       "    </tr>\n",
       "    <tr>\n",
       "      <th>3</th>\n",
       "      <td>4.6</td>\n",
       "      <td>3.1</td>\n",
       "      <td>1.5</td>\n",
       "      <td>0.2</td>\n",
       "      <td>1</td>\n",
       "    </tr>\n",
       "    <tr>\n",
       "      <th>4</th>\n",
       "      <td>5.0</td>\n",
       "      <td>3.6</td>\n",
       "      <td>1.4</td>\n",
       "      <td>0.2</td>\n",
       "      <td>1</td>\n",
       "    </tr>\n",
       "    <tr>\n",
       "      <th>...</th>\n",
       "      <td>...</td>\n",
       "      <td>...</td>\n",
       "      <td>...</td>\n",
       "      <td>...</td>\n",
       "      <td>...</td>\n",
       "    </tr>\n",
       "    <tr>\n",
       "      <th>145</th>\n",
       "      <td>6.7</td>\n",
       "      <td>3.0</td>\n",
       "      <td>5.2</td>\n",
       "      <td>2.3</td>\n",
       "      <td>3</td>\n",
       "    </tr>\n",
       "    <tr>\n",
       "      <th>146</th>\n",
       "      <td>6.3</td>\n",
       "      <td>2.5</td>\n",
       "      <td>5.0</td>\n",
       "      <td>1.9</td>\n",
       "      <td>3</td>\n",
       "    </tr>\n",
       "    <tr>\n",
       "      <th>147</th>\n",
       "      <td>6.5</td>\n",
       "      <td>3.0</td>\n",
       "      <td>5.2</td>\n",
       "      <td>2.0</td>\n",
       "      <td>3</td>\n",
       "    </tr>\n",
       "    <tr>\n",
       "      <th>148</th>\n",
       "      <td>6.2</td>\n",
       "      <td>3.4</td>\n",
       "      <td>5.4</td>\n",
       "      <td>2.3</td>\n",
       "      <td>3</td>\n",
       "    </tr>\n",
       "    <tr>\n",
       "      <th>149</th>\n",
       "      <td>5.9</td>\n",
       "      <td>3.0</td>\n",
       "      <td>5.1</td>\n",
       "      <td>1.8</td>\n",
       "      <td>3</td>\n",
       "    </tr>\n",
       "  </tbody>\n",
       "</table>\n",
       "<p>150 rows × 5 columns</p>\n",
       "</div>"
      ],
      "text/plain": [
       "     sepal length  sepal width  petal length  petal width  species\n",
       "0             5.1          3.5           1.4          0.2        1\n",
       "1             4.9          3.0           1.4          0.2        1\n",
       "2             4.7          3.2           1.3          0.2        1\n",
       "3             4.6          3.1           1.5          0.2        1\n",
       "4             5.0          3.6           1.4          0.2        1\n",
       "..            ...          ...           ...          ...      ...\n",
       "145           6.7          3.0           5.2          2.3        3\n",
       "146           6.3          2.5           5.0          1.9        3\n",
       "147           6.5          3.0           5.2          2.0        3\n",
       "148           6.2          3.4           5.4          2.3        3\n",
       "149           5.9          3.0           5.1          1.8        3\n",
       "\n",
       "[150 rows x 5 columns]"
      ]
     },
     "execution_count": 6,
     "metadata": {},
     "output_type": "execute_result"
    }
   ],
   "source": [
    "data"
   ]
  },
  {
   "cell_type": "code",
   "execution_count": 7,
   "metadata": {},
   "outputs": [],
   "source": [
    "import numpy as np"
   ]
  },
  {
   "cell_type": "code",
   "execution_count": 8,
   "metadata": {},
   "outputs": [],
   "source": [
    "x = data.drop(columns='species')"
   ]
  },
  {
   "cell_type": "code",
   "execution_count": 9,
   "metadata": {},
   "outputs": [
    {
     "data": {
      "text/html": [
       "<div>\n",
       "<style scoped>\n",
       "    .dataframe tbody tr th:only-of-type {\n",
       "        vertical-align: middle;\n",
       "    }\n",
       "\n",
       "    .dataframe tbody tr th {\n",
       "        vertical-align: top;\n",
       "    }\n",
       "\n",
       "    .dataframe thead th {\n",
       "        text-align: right;\n",
       "    }\n",
       "</style>\n",
       "<table border=\"1\" class=\"dataframe\">\n",
       "  <thead>\n",
       "    <tr style=\"text-align: right;\">\n",
       "      <th></th>\n",
       "      <th>sepal length</th>\n",
       "      <th>sepal width</th>\n",
       "      <th>petal length</th>\n",
       "      <th>petal width</th>\n",
       "    </tr>\n",
       "  </thead>\n",
       "  <tbody>\n",
       "    <tr>\n",
       "      <th>0</th>\n",
       "      <td>5.1</td>\n",
       "      <td>3.5</td>\n",
       "      <td>1.4</td>\n",
       "      <td>0.2</td>\n",
       "    </tr>\n",
       "    <tr>\n",
       "      <th>1</th>\n",
       "      <td>4.9</td>\n",
       "      <td>3.0</td>\n",
       "      <td>1.4</td>\n",
       "      <td>0.2</td>\n",
       "    </tr>\n",
       "    <tr>\n",
       "      <th>2</th>\n",
       "      <td>4.7</td>\n",
       "      <td>3.2</td>\n",
       "      <td>1.3</td>\n",
       "      <td>0.2</td>\n",
       "    </tr>\n",
       "    <tr>\n",
       "      <th>3</th>\n",
       "      <td>4.6</td>\n",
       "      <td>3.1</td>\n",
       "      <td>1.5</td>\n",
       "      <td>0.2</td>\n",
       "    </tr>\n",
       "    <tr>\n",
       "      <th>4</th>\n",
       "      <td>5.0</td>\n",
       "      <td>3.6</td>\n",
       "      <td>1.4</td>\n",
       "      <td>0.2</td>\n",
       "    </tr>\n",
       "    <tr>\n",
       "      <th>...</th>\n",
       "      <td>...</td>\n",
       "      <td>...</td>\n",
       "      <td>...</td>\n",
       "      <td>...</td>\n",
       "    </tr>\n",
       "    <tr>\n",
       "      <th>145</th>\n",
       "      <td>6.7</td>\n",
       "      <td>3.0</td>\n",
       "      <td>5.2</td>\n",
       "      <td>2.3</td>\n",
       "    </tr>\n",
       "    <tr>\n",
       "      <th>146</th>\n",
       "      <td>6.3</td>\n",
       "      <td>2.5</td>\n",
       "      <td>5.0</td>\n",
       "      <td>1.9</td>\n",
       "    </tr>\n",
       "    <tr>\n",
       "      <th>147</th>\n",
       "      <td>6.5</td>\n",
       "      <td>3.0</td>\n",
       "      <td>5.2</td>\n",
       "      <td>2.0</td>\n",
       "    </tr>\n",
       "    <tr>\n",
       "      <th>148</th>\n",
       "      <td>6.2</td>\n",
       "      <td>3.4</td>\n",
       "      <td>5.4</td>\n",
       "      <td>2.3</td>\n",
       "    </tr>\n",
       "    <tr>\n",
       "      <th>149</th>\n",
       "      <td>5.9</td>\n",
       "      <td>3.0</td>\n",
       "      <td>5.1</td>\n",
       "      <td>1.8</td>\n",
       "    </tr>\n",
       "  </tbody>\n",
       "</table>\n",
       "<p>150 rows × 4 columns</p>\n",
       "</div>"
      ],
      "text/plain": [
       "     sepal length  sepal width  petal length  petal width\n",
       "0             5.1          3.5           1.4          0.2\n",
       "1             4.9          3.0           1.4          0.2\n",
       "2             4.7          3.2           1.3          0.2\n",
       "3             4.6          3.1           1.5          0.2\n",
       "4             5.0          3.6           1.4          0.2\n",
       "..            ...          ...           ...          ...\n",
       "145           6.7          3.0           5.2          2.3\n",
       "146           6.3          2.5           5.0          1.9\n",
       "147           6.5          3.0           5.2          2.0\n",
       "148           6.2          3.4           5.4          2.3\n",
       "149           5.9          3.0           5.1          1.8\n",
       "\n",
       "[150 rows x 4 columns]"
      ]
     },
     "execution_count": 9,
     "metadata": {},
     "output_type": "execute_result"
    }
   ],
   "source": [
    "x"
   ]
  },
  {
   "cell_type": "code",
   "execution_count": 10,
   "metadata": {},
   "outputs": [],
   "source": [
    "y = data['species']"
   ]
  },
  {
   "cell_type": "code",
   "execution_count": 11,
   "metadata": {},
   "outputs": [
    {
     "data": {
      "text/plain": [
       "0      1\n",
       "1      1\n",
       "2      1\n",
       "3      1\n",
       "4      1\n",
       "      ..\n",
       "145    3\n",
       "146    3\n",
       "147    3\n",
       "148    3\n",
       "149    3\n",
       "Name: species, Length: 150, dtype: int64"
      ]
     },
     "execution_count": 11,
     "metadata": {},
     "output_type": "execute_result"
    }
   ],
   "source": [
    "y"
   ]
  },
  {
   "cell_type": "code",
   "execution_count": 12,
   "metadata": {},
   "outputs": [],
   "source": [
    "x = np.array(x)"
   ]
  },
  {
   "cell_type": "code",
   "execution_count": 13,
   "metadata": {},
   "outputs": [],
   "source": [
    "x_mean = np.mean(x)"
   ]
  },
  {
   "cell_type": "code",
   "execution_count": 14,
   "metadata": {},
   "outputs": [],
   "source": [
    "y = np.array(y)\n",
    "y_mean = np.mean(y)"
   ]
  },
  {
   "cell_type": "code",
   "execution_count": 15,
   "metadata": {},
   "outputs": [],
   "source": [
    "x_std = x-x_mean\n",
    "y_std = y-y_mean"
   ]
  },
  {
   "cell_type": "code",
   "execution_count": 16,
   "metadata": {},
   "outputs": [
    {
     "data": {
      "text/plain": [
       "array([[ 1.6355,  0.0355, -2.0645, -3.2645],\n",
       "       [ 1.4355, -0.4645, -2.0645, -3.2645],\n",
       "       [ 1.2355, -0.2645, -2.1645, -3.2645],\n",
       "       [ 1.1355, -0.3645, -1.9645, -3.2645],\n",
       "       [ 1.5355,  0.1355, -2.0645, -3.2645],\n",
       "       [ 1.9355,  0.4355, -1.7645, -3.0645],\n",
       "       [ 1.1355, -0.0645, -2.0645, -3.1645],\n",
       "       [ 1.5355, -0.0645, -1.9645, -3.2645],\n",
       "       [ 0.9355, -0.5645, -2.0645, -3.2645],\n",
       "       [ 1.4355, -0.3645, -1.9645, -3.3645],\n",
       "       [ 1.9355,  0.2355, -1.9645, -3.2645],\n",
       "       [ 1.3355, -0.0645, -1.8645, -3.2645],\n",
       "       [ 1.3355, -0.4645, -2.0645, -3.3645],\n",
       "       [ 0.8355, -0.4645, -2.3645, -3.3645],\n",
       "       [ 2.3355,  0.5355, -2.2645, -3.2645],\n",
       "       [ 2.2355,  0.9355, -1.9645, -3.0645],\n",
       "       [ 1.9355,  0.4355, -2.1645, -3.0645],\n",
       "       [ 1.6355,  0.0355, -2.0645, -3.1645],\n",
       "       [ 2.2355,  0.3355, -1.7645, -3.1645],\n",
       "       [ 1.6355,  0.3355, -1.9645, -3.1645],\n",
       "       [ 1.9355, -0.0645, -1.7645, -3.2645],\n",
       "       [ 1.6355,  0.2355, -1.9645, -3.0645],\n",
       "       [ 1.1355,  0.1355, -2.4645, -3.2645],\n",
       "       [ 1.6355, -0.1645, -1.7645, -2.9645],\n",
       "       [ 1.3355, -0.0645, -1.5645, -3.2645],\n",
       "       [ 1.5355, -0.4645, -1.8645, -3.2645],\n",
       "       [ 1.5355, -0.0645, -1.8645, -3.0645],\n",
       "       [ 1.7355,  0.0355, -1.9645, -3.2645],\n",
       "       [ 1.7355, -0.0645, -2.0645, -3.2645],\n",
       "       [ 1.2355, -0.2645, -1.8645, -3.2645],\n",
       "       [ 1.3355, -0.3645, -1.8645, -3.2645],\n",
       "       [ 1.9355, -0.0645, -1.9645, -3.0645],\n",
       "       [ 1.7355,  0.6355, -1.9645, -3.3645],\n",
       "       [ 2.0355,  0.7355, -2.0645, -3.2645],\n",
       "       [ 1.4355, -0.3645, -1.9645, -3.2645],\n",
       "       [ 1.5355, -0.2645, -2.2645, -3.2645],\n",
       "       [ 2.0355,  0.0355, -2.1645, -3.2645],\n",
       "       [ 1.4355,  0.1355, -2.0645, -3.3645],\n",
       "       [ 0.9355, -0.4645, -2.1645, -3.2645],\n",
       "       [ 1.6355, -0.0645, -1.9645, -3.2645],\n",
       "       [ 1.5355,  0.0355, -2.1645, -3.1645],\n",
       "       [ 1.0355, -1.1645, -2.1645, -3.1645],\n",
       "       [ 0.9355, -0.2645, -2.1645, -3.2645],\n",
       "       [ 1.5355,  0.0355, -1.8645, -2.8645],\n",
       "       [ 1.6355,  0.3355, -1.5645, -3.0645],\n",
       "       [ 1.3355, -0.4645, -2.0645, -3.1645],\n",
       "       [ 1.6355,  0.3355, -1.8645, -3.2645],\n",
       "       [ 1.1355, -0.2645, -2.0645, -3.2645],\n",
       "       [ 1.8355,  0.2355, -1.9645, -3.2645],\n",
       "       [ 1.5355, -0.1645, -2.0645, -3.2645],\n",
       "       [ 3.5355, -0.2645,  1.2355, -2.0645],\n",
       "       [ 2.9355, -0.2645,  1.0355, -1.9645],\n",
       "       [ 3.4355, -0.3645,  1.4355, -1.9645],\n",
       "       [ 2.0355, -1.1645,  0.5355, -2.1645],\n",
       "       [ 3.0355, -0.6645,  1.1355, -1.9645],\n",
       "       [ 2.2355, -0.6645,  1.0355, -2.1645],\n",
       "       [ 2.8355, -0.1645,  1.2355, -1.8645],\n",
       "       [ 1.4355, -1.0645, -0.1645, -2.4645],\n",
       "       [ 3.1355, -0.5645,  1.1355, -2.1645],\n",
       "       [ 1.7355, -0.7645,  0.4355, -2.0645],\n",
       "       [ 1.5355, -1.4645,  0.0355, -2.4645],\n",
       "       [ 2.4355, -0.4645,  0.7355, -1.9645],\n",
       "       [ 2.5355, -1.2645,  0.5355, -2.4645],\n",
       "       [ 2.6355, -0.5645,  1.2355, -2.0645],\n",
       "       [ 2.1355, -0.5645,  0.1355, -2.1645],\n",
       "       [ 3.2355, -0.3645,  0.9355, -2.0645],\n",
       "       [ 2.1355, -0.4645,  1.0355, -1.9645],\n",
       "       [ 2.3355, -0.7645,  0.6355, -2.4645],\n",
       "       [ 2.7355, -1.2645,  1.0355, -1.9645],\n",
       "       [ 2.1355, -0.9645,  0.4355, -2.3645],\n",
       "       [ 2.4355, -0.2645,  1.3355, -1.6645],\n",
       "       [ 2.6355, -0.6645,  0.5355, -2.1645],\n",
       "       [ 2.8355, -0.9645,  1.4355, -1.9645],\n",
       "       [ 2.6355, -0.6645,  1.2355, -2.2645],\n",
       "       [ 2.9355, -0.5645,  0.8355, -2.1645],\n",
       "       [ 3.1355, -0.4645,  0.9355, -2.0645],\n",
       "       [ 3.3355, -0.6645,  1.3355, -2.0645],\n",
       "       [ 3.2355, -0.4645,  1.5355, -1.7645],\n",
       "       [ 2.5355, -0.5645,  1.0355, -1.9645],\n",
       "       [ 2.2355, -0.8645,  0.0355, -2.4645],\n",
       "       [ 2.0355, -1.0645,  0.3355, -2.3645],\n",
       "       [ 2.0355, -1.0645,  0.2355, -2.4645],\n",
       "       [ 2.3355, -0.7645,  0.4355, -2.2645],\n",
       "       [ 2.5355, -0.7645,  1.6355, -1.8645],\n",
       "       [ 1.9355, -0.4645,  1.0355, -1.9645],\n",
       "       [ 2.5355, -0.0645,  1.0355, -1.8645],\n",
       "       [ 3.2355, -0.3645,  1.2355, -1.9645],\n",
       "       [ 2.8355, -1.1645,  0.9355, -2.1645],\n",
       "       [ 2.1355, -0.4645,  0.6355, -2.1645],\n",
       "       [ 2.0355, -0.9645,  0.5355, -2.1645],\n",
       "       [ 2.0355, -0.8645,  0.9355, -2.2645],\n",
       "       [ 2.6355, -0.4645,  1.1355, -2.0645],\n",
       "       [ 2.3355, -0.8645,  0.5355, -2.2645],\n",
       "       [ 1.5355, -1.1645, -0.1645, -2.4645],\n",
       "       [ 2.1355, -0.7645,  0.7355, -2.1645],\n",
       "       [ 2.2355, -0.4645,  0.7355, -2.2645],\n",
       "       [ 2.2355, -0.5645,  0.7355, -2.1645],\n",
       "       [ 2.7355, -0.5645,  0.8355, -2.1645],\n",
       "       [ 1.6355, -0.9645, -0.4645, -2.3645],\n",
       "       [ 2.2355, -0.6645,  0.6355, -2.1645],\n",
       "       [ 2.8355, -0.1645,  2.5355, -0.9645],\n",
       "       [ 2.3355, -0.7645,  1.6355, -1.5645],\n",
       "       [ 3.6355, -0.4645,  2.4355, -1.3645],\n",
       "       [ 2.8355, -0.5645,  2.1355, -1.6645],\n",
       "       [ 3.0355, -0.4645,  2.3355, -1.2645],\n",
       "       [ 4.1355, -0.4645,  3.1355, -1.3645],\n",
       "       [ 1.4355, -0.9645,  1.0355, -1.7645],\n",
       "       [ 3.8355, -0.5645,  2.8355, -1.6645],\n",
       "       [ 3.2355, -0.9645,  2.3355, -1.6645],\n",
       "       [ 3.7355,  0.1355,  2.6355, -0.9645],\n",
       "       [ 3.0355, -0.2645,  1.6355, -1.4645],\n",
       "       [ 2.9355, -0.7645,  1.8355, -1.5645],\n",
       "       [ 3.3355, -0.4645,  2.0355, -1.3645],\n",
       "       [ 2.2355, -0.9645,  1.5355, -1.4645],\n",
       "       [ 2.3355, -0.6645,  1.6355, -1.0645],\n",
       "       [ 2.9355, -0.2645,  1.8355, -1.1645],\n",
       "       [ 3.0355, -0.4645,  2.0355, -1.6645],\n",
       "       [ 4.2355,  0.3355,  3.2355, -1.2645],\n",
       "       [ 4.2355, -0.8645,  3.4355, -1.1645],\n",
       "       [ 2.5355, -1.2645,  1.5355, -1.9645],\n",
       "       [ 3.4355, -0.2645,  2.2355, -1.1645],\n",
       "       [ 2.1355, -0.6645,  1.4355, -1.4645],\n",
       "       [ 4.2355, -0.6645,  3.2355, -1.4645],\n",
       "       [ 2.8355, -0.7645,  1.4355, -1.6645],\n",
       "       [ 3.2355, -0.1645,  2.2355, -1.3645],\n",
       "       [ 3.7355, -0.2645,  2.5355, -1.6645],\n",
       "       [ 2.7355, -0.6645,  1.3355, -1.6645],\n",
       "       [ 2.6355, -0.4645,  1.4355, -1.6645],\n",
       "       [ 2.9355, -0.6645,  2.1355, -1.3645],\n",
       "       [ 3.7355, -0.4645,  2.3355, -1.8645],\n",
       "       [ 3.9355, -0.6645,  2.6355, -1.5645],\n",
       "       [ 4.4355,  0.3355,  2.9355, -1.4645],\n",
       "       [ 2.9355, -0.6645,  2.1355, -1.2645],\n",
       "       [ 2.8355, -0.6645,  1.6355, -1.9645],\n",
       "       [ 2.6355, -0.8645,  2.1355, -2.0645],\n",
       "       [ 4.2355, -0.4645,  2.6355, -1.1645],\n",
       "       [ 2.8355, -0.0645,  2.1355, -1.0645],\n",
       "       [ 2.9355, -0.3645,  2.0355, -1.6645],\n",
       "       [ 2.5355, -0.4645,  1.3355, -1.6645],\n",
       "       [ 3.4355, -0.3645,  1.9355, -1.3645],\n",
       "       [ 3.2355, -0.3645,  2.1355, -1.0645],\n",
       "       [ 3.4355, -0.3645,  1.6355, -1.1645],\n",
       "       [ 2.3355, -0.7645,  1.6355, -1.5645],\n",
       "       [ 3.3355, -0.2645,  2.4355, -1.1645],\n",
       "       [ 3.2355, -0.1645,  2.2355, -0.9645],\n",
       "       [ 3.2355, -0.4645,  1.7355, -1.1645],\n",
       "       [ 2.8355, -0.9645,  1.5355, -1.5645],\n",
       "       [ 3.0355, -0.4645,  1.7355, -1.4645],\n",
       "       [ 2.7355, -0.0645,  1.9355, -1.1645],\n",
       "       [ 2.4355, -0.4645,  1.6355, -1.6645]])"
      ]
     },
     "execution_count": 16,
     "metadata": {},
     "output_type": "execute_result"
    }
   ],
   "source": [
    "x_std"
   ]
  },
  {
   "cell_type": "code",
   "execution_count": 17,
   "metadata": {},
   "outputs": [
    {
     "data": {
      "text/plain": [
       "array([-1., -1., -1., -1., -1., -1., -1., -1., -1., -1., -1., -1., -1.,\n",
       "       -1., -1., -1., -1., -1., -1., -1., -1., -1., -1., -1., -1., -1.,\n",
       "       -1., -1., -1., -1., -1., -1., -1., -1., -1., -1., -1., -1., -1.,\n",
       "       -1., -1., -1., -1., -1., -1., -1., -1., -1., -1., -1.,  0.,  0.,\n",
       "        0.,  0.,  0.,  0.,  0.,  0.,  0.,  0.,  0.,  0.,  0.,  0.,  0.,\n",
       "        0.,  0.,  0.,  0.,  0.,  0.,  0.,  0.,  0.,  0.,  0.,  0.,  0.,\n",
       "        0.,  0.,  0.,  0.,  0.,  0.,  0.,  0.,  0.,  0.,  0.,  0.,  0.,\n",
       "        0.,  0.,  0.,  0.,  0.,  0.,  0.,  0.,  0.,  1.,  1.,  1.,  1.,\n",
       "        1.,  1.,  1.,  1.,  1.,  1.,  1.,  1.,  1.,  1.,  1.,  1.,  1.,\n",
       "        1.,  1.,  1.,  1.,  1.,  1.,  1.,  1.,  1.,  1.,  1.,  1.,  1.,\n",
       "        1.,  1.,  1.,  1.,  1.,  1.,  1.,  1.,  1.,  1.,  1.,  1.,  1.,\n",
       "        1.,  1.,  1.,  1.,  1.,  1.,  1.])"
      ]
     },
     "execution_count": 17,
     "metadata": {},
     "output_type": "execute_result"
    }
   ],
   "source": [
    "y_std"
   ]
  },
  {
   "cell_type": "code",
   "execution_count": 18,
   "metadata": {},
   "outputs": [
    {
     "data": {
      "text/plain": [
       "2.0"
      ]
     },
     "execution_count": 18,
     "metadata": {},
     "output_type": "execute_result"
    }
   ],
   "source": [
    "y_mean"
   ]
  },
  {
   "cell_type": "code",
   "execution_count": 19,
   "metadata": {},
   "outputs": [],
   "source": [
    "cov_mat = np.cov(x_std.T)"
   ]
  },
  {
   "cell_type": "code",
   "execution_count": 20,
   "metadata": {},
   "outputs": [
    {
     "data": {
      "text/plain": [
       "array([[ 0.68569351, -0.042434  ,  1.27431544,  0.51627069],\n",
       "       [-0.042434  ,  0.18997942, -0.32965638, -0.12163937],\n",
       "       [ 1.27431544, -0.32965638,  3.11627785,  1.2956094 ],\n",
       "       [ 0.51627069, -0.12163937,  1.2956094 ,  0.58100626]])"
      ]
     },
     "execution_count": 20,
     "metadata": {},
     "output_type": "execute_result"
    }
   ],
   "source": [
    "cov_mat"
   ]
  },
  {
   "cell_type": "code",
   "execution_count": 21,
   "metadata": {},
   "outputs": [],
   "source": [
    "from numpy import linalg as la"
   ]
  },
  {
   "cell_type": "markdown",
   "metadata": {},
   "source": [
    "eig_val,eig_vec = la.eig(cov_mat)"
   ]
  },
  {
   "cell_type": "code",
   "execution_count": 22,
   "metadata": {},
   "outputs": [],
   "source": [
    "eig_val,eig_vec = la.eig(cov_mat)"
   ]
  },
  {
   "cell_type": "code",
   "execution_count": 23,
   "metadata": {},
   "outputs": [
    {
     "data": {
      "text/plain": [
       "array([4.22824171, 0.24267075, 0.0782095 , 0.02383509])"
      ]
     },
     "execution_count": 23,
     "metadata": {},
     "output_type": "execute_result"
    }
   ],
   "source": [
    "eig_val"
   ]
  },
  {
   "cell_type": "code",
   "execution_count": 24,
   "metadata": {},
   "outputs": [
    {
     "data": {
      "text/plain": [
       "array([[ 0.36138659, -0.65658877, -0.58202985,  0.31548719],\n",
       "       [-0.08452251, -0.73016143,  0.59791083, -0.3197231 ],\n",
       "       [ 0.85667061,  0.17337266,  0.07623608, -0.47983899],\n",
       "       [ 0.3582892 ,  0.07548102,  0.54583143,  0.75365743]])"
      ]
     },
     "execution_count": 24,
     "metadata": {},
     "output_type": "execute_result"
    }
   ],
   "source": [
    "eig_vec"
   ]
  },
  {
   "cell_type": "code",
   "execution_count": 25,
   "metadata": {},
   "outputs": [],
   "source": [
    "eig_pairs = [(np.abs(eig_val[i]), eig_vec[:,i]) for i in range(len(eig_val))]"
   ]
  },
  {
   "cell_type": "code",
   "execution_count": 26,
   "metadata": {},
   "outputs": [],
   "source": [
    "eig_pairs.sort(key=lambda x: x[0], reverse=True)"
   ]
  },
  {
   "cell_type": "code",
   "execution_count": 27,
   "metadata": {},
   "outputs": [
    {
     "name": "stdout",
     "output_type": "stream",
     "text": [
      "Eigenvalues in descending order:\n",
      "4.228241706034865\n",
      "0.24267074792863408\n",
      "0.07820950004291909\n",
      "0.02383509297344955\n"
     ]
    }
   ],
   "source": [
    "print('Eigenvalues in descending order:')\n",
    "for i in eig_pairs:\n",
    "    print(i[0])"
   ]
  },
  {
   "cell_type": "code",
   "execution_count": 28,
   "metadata": {},
   "outputs": [
    {
     "name": "stdout",
     "output_type": "stream",
     "text": [
      "92.46187232017269\n",
      "5.3066483117067955\n",
      "1.7102609807929694\n",
      "0.5212183873275397\n"
     ]
    }
   ],
   "source": [
    "total = sum(eig_val)\n",
    "for i in eig_val:\n",
    "    var = (i/total)*100\n",
    "    print(var)"
   ]
  },
  {
   "cell_type": "code",
   "execution_count": 29,
   "metadata": {},
   "outputs": [],
   "source": [
    "matrix_w = np.hstack((eig_pairs[0][1].reshape(4,1),\n",
    "                      eig_pairs[1][1].reshape(4,1)))"
   ]
  },
  {
   "cell_type": "code",
   "execution_count": 30,
   "metadata": {},
   "outputs": [
    {
     "data": {
      "text/plain": [
       "array([[ 0.36138659, -0.65658877],\n",
       "       [-0.08452251, -0.73016143],\n",
       "       [ 0.85667061,  0.17337266],\n",
       "       [ 0.3582892 ,  0.07548102]])"
      ]
     },
     "execution_count": 30,
     "metadata": {},
     "output_type": "execute_result"
    }
   ],
   "source": [
    "matrix_w"
   ]
  },
  {
   "cell_type": "code",
   "execution_count": 31,
   "metadata": {},
   "outputs": [
    {
     "name": "stdout",
     "output_type": "stream",
     "text": [
      "[[-2.35018433 -1.70410732]\n",
      " [-2.38020039 -1.20770885]\n",
      " [-2.55504927 -1.23976065]\n",
      " [-2.41140156 -1.06641109]\n",
      " [-2.39477524 -1.71146458]]\n"
     ]
    }
   ],
   "source": [
    "Y = x_std.dot(matrix_w)\n",
    "print(Y[0:5])"
   ]
  },
  {
   "cell_type": "code",
   "execution_count": 32,
   "metadata": {},
   "outputs": [],
   "source": [
    "import pylab as pl"
   ]
  },
  {
   "cell_type": "code",
   "execution_count": 33,
   "metadata": {},
   "outputs": [
    {
     "data": {
      "text/plain": [
       "array([1, 1, 1, 1, 1, 1, 1, 1, 1, 1, 1, 1, 1, 1, 1, 1, 1, 1, 1, 1, 1, 1,\n",
       "       1, 1, 1, 1, 1, 1, 1, 1, 1, 1, 1, 1, 1, 1, 1, 1, 1, 1, 1, 1, 1, 1,\n",
       "       1, 1, 1, 1, 1, 1, 2, 2, 2, 2, 2, 2, 2, 2, 2, 2, 2, 2, 2, 2, 2, 2,\n",
       "       2, 2, 2, 2, 2, 2, 2, 2, 2, 2, 2, 2, 2, 2, 2, 2, 2, 2, 2, 2, 2, 2,\n",
       "       2, 2, 2, 2, 2, 2, 2, 2, 2, 2, 2, 2, 3, 3, 3, 3, 3, 3, 3, 3, 3, 3,\n",
       "       3, 3, 3, 3, 3, 3, 3, 3, 3, 3, 3, 3, 3, 3, 3, 3, 3, 3, 3, 3, 3, 3,\n",
       "       3, 3, 3, 3, 3, 3, 3, 3, 3, 3, 3, 3, 3, 3, 3, 3, 3, 3])"
      ]
     },
     "execution_count": 33,
     "metadata": {},
     "output_type": "execute_result"
    }
   ],
   "source": [
    "y"
   ]
  },
  {
   "cell_type": "code",
   "execution_count": 34,
   "metadata": {},
   "outputs": [
    {
     "data": {
      "image/png": "[encoded data removed]",
      "text/plain": [
       "<Figure size 432x288 with 1 Axes>"
      ]
     },
     "metadata": {
      "needs_background": "light"
     },
     "output_type": "display_data"
    }
   ],
   "source": [
    "pl.figure()\n",
    "target_names = ['Setosa','Versicolor','Virginica']\n",
    "for c, i, target_name in zip(\"rgb\", [1, 2, 3], target_names):\n",
    "    pl.scatter(Y[y==i,0], Y[y==i,1], c=c, label=target_name)\n",
    "pl.xlabel('Principal Component 1')\n",
    "pl.ylabel('Principal Component 2')\n",
    "pl.legend()\n",
    "pl.title('PCA of IRIS dataset')\n",
    "pl.show()"
   ]
  },
  {
   "cell_type": "code",
   "execution_count": 35,
   "metadata": {},
   "outputs": [
    {
     "data": {
      "image/png": "[encoded data removed]",
      "text/plain": [
       "<Figure size 432x288 with 1 Axes>"
      ]
     },
     "metadata": {
      "needs_background": "light"
     },
     "output_type": "display_data"
    }
   ],
   "source": [
    "import matplotlib.pyplot as plt\n",
    "for i in range(len(y)):\n",
    "    if y[i]==1:\n",
    "        plt.scatter(Y[i,0],Y[i,1],c=\"red\")\n",
    "    elif y[i]==2:\n",
    "        plt.scatter(Y[i,0],Y[i,1],c=\"green\")\n",
    "    elif y[i]==3:\n",
    "        plt.scatter(Y[i,0],Y[i,1],c=\"blue\")"
   ]
  },
  {
   "cell_type": "code",
   "execution_count": null,
   "metadata": {},
   "outputs": [],
   "source": []
  }
 ],
 "metadata": {
  "kernelspec": {
   "display_name": "Python 3 (ipykernel)",
   "language": "python",
   "name": "python3"
  },
  "language_info": {
   "codemirror_mode": {
    "name": "ipython",
    "version": 3
   },
   "file_extension": ".py",
   "mimetype": "text/x-python",
   "name": "python",
   "nbconvert_exporter": "python",
   "pygments_lexer": "ipython3",
   "version": "3.7.6"
  }
 },
 "nbformat": 4,
 "nbformat_minor": 4
}
