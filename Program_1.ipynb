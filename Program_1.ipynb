{
 "cells": [
  {
   "cell_type": "code",
   "execution_count": 1,
   "metadata": {},
   "outputs": [
    {
     "name": "stdout",
     "output_type": "stream",
     "text": [
      "Defaulting to user installation because normal site-packages is not writeable\n",
      "Requirement already satisfied: scikit-plot in /home/admin1/.local/lib/python3.10/site-packages (0.3.7)\n",
      "Requirement already satisfied: scipy>=0.9 in /usr/lib/python3/dist-packages (from scikit-plot) (1.8.0)\n",
      "Requirement already satisfied: joblib>=0.10 in /home/admin1/.local/lib/python3.10/site-packages (from scikit-plot) (1.2.0)\n",
      "Requirement already satisfied: matplotlib>=1.4.0 in /usr/lib/python3/dist-packages (from scikit-plot) (3.5.1)\n",
      "Requirement already satisfied: scikit-learn>=0.18 in /home/admin1/.local/lib/python3.10/site-packages (from scikit-plot) (1.1.3)\n",
      "Requirement already satisfied: threadpoolctl>=2.0.0 in /home/admin1/.local/lib/python3.10/site-packages (from scikit-learn>=0.18->scikit-plot) (3.1.0)\n",
      "Requirement already satisfied: numpy>=1.17.3 in /usr/lib/python3/dist-packages (from scikit-learn>=0.18->scikit-plot) (1.21.5)\n",
      "Note: you may need to restart the kernel to use updated packages.\n"
     ]
    }
   ],
   "source": [
    "pip install scikit-plot"
   ]
  },
  {
   "cell_type": "code",
   "execution_count": 1,
   "metadata": {},
   "outputs": [],
   "source": [
    "import pandas as pd\n",
    "import numpy as np\n",
    "from sklearn.naive_bayes import MultinomialNB\n",
    "import scikitplot as skplt\n",
    "import matplotlib.pyplot as plt\n",
    "from sklearn.metrics import accuracy_score, classification_report"
   ]
  },
  {
   "cell_type": "code",
   "execution_count": 2,
   "metadata": {},
   "outputs": [
    {
     "data": {
      "text/html": [
       "<div>\n",
       "<style scoped>\n",
       "    .dataframe tbody tr th:only-of-type {\n",
       "        vertical-align: middle;\n",
       "    }\n",
       "\n",
       "    .dataframe tbody tr th {\n",
       "        vertical-align: top;\n",
       "    }\n",
       "\n",
       "    .dataframe thead th {\n",
       "        text-align: right;\n",
       "    }\n",
       "</style>\n",
       "<table border=\"1\" class=\"dataframe\">\n",
       "  <thead>\n",
       "    <tr style=\"text-align: right;\">\n",
       "      <th></th>\n",
       "      <th>no</th>\n",
       "      <th>pc</th>\n",
       "      <th>wbc</th>\n",
       "      <th>mc</th>\n",
       "      <th>ast</th>\n",
       "      <th>bc</th>\n",
       "      <th>ldh</th>\n",
       "      <th>diagnosis</th>\n",
       "    </tr>\n",
       "  </thead>\n",
       "  <tbody>\n",
       "    <tr>\n",
       "      <th>0</th>\n",
       "      <td>1</td>\n",
       "      <td>Low</td>\n",
       "      <td>Low</td>\n",
       "      <td>Low</td>\n",
       "      <td>High</td>\n",
       "      <td>Normal</td>\n",
       "      <td>Normal</td>\n",
       "      <td>True</td>\n",
       "    </tr>\n",
       "    <tr>\n",
       "      <th>1</th>\n",
       "      <td>2</td>\n",
       "      <td>Low</td>\n",
       "      <td>Low</td>\n",
       "      <td>Normal</td>\n",
       "      <td>High</td>\n",
       "      <td>Normal</td>\n",
       "      <td>High</td>\n",
       "      <td>True</td>\n",
       "    </tr>\n",
       "    <tr>\n",
       "      <th>2</th>\n",
       "      <td>3</td>\n",
       "      <td>Low</td>\n",
       "      <td>High</td>\n",
       "      <td>Normal</td>\n",
       "      <td>High</td>\n",
       "      <td>Normal</td>\n",
       "      <td>Normal</td>\n",
       "      <td>False</td>\n",
       "    </tr>\n",
       "    <tr>\n",
       "      <th>3</th>\n",
       "      <td>4</td>\n",
       "      <td>Low</td>\n",
       "      <td>High</td>\n",
       "      <td>Normal</td>\n",
       "      <td>High</td>\n",
       "      <td>High</td>\n",
       "      <td>Normal</td>\n",
       "      <td>True</td>\n",
       "    </tr>\n",
       "    <tr>\n",
       "      <th>4</th>\n",
       "      <td>5</td>\n",
       "      <td>Low</td>\n",
       "      <td>Normal</td>\n",
       "      <td>High</td>\n",
       "      <td>High</td>\n",
       "      <td>Normal</td>\n",
       "      <td>Normal</td>\n",
       "      <td>False</td>\n",
       "    </tr>\n",
       "  </tbody>\n",
       "</table>\n",
       "</div>"
      ],
      "text/plain": [
       "   no   pc     wbc      mc   ast      bc     ldh  diagnosis\n",
       "0   1  Low     Low     Low  High  Normal  Normal       True\n",
       "1   2  Low     Low  Normal  High  Normal    High       True\n",
       "2   3  Low    High  Normal  High  Normal  Normal      False\n",
       "3   4  Low    High  Normal  High    High  Normal       True\n",
       "4   5  Low  Normal    High  High  Normal  Normal      False"
      ]
     },
     "execution_count": 2,
     "metadata": {},
     "output_type": "execute_result"
    }
   ],
   "source": [
    "data = pd.read_csv('covid.csv')\n",
    "data.head()"
   ]
  },
  {
   "cell_type": "code",
   "execution_count": 3,
   "metadata": {},
   "outputs": [],
   "source": [
    "from sklearn import preprocessing\n",
    "le = preprocessing.LabelEncoder()\n",
    "pc_encoded=le.fit_transform(data['pc'].values)\n",
    "wbc_encoded=le.fit_transform(data['wbc'].values)\n",
    "mc_encoded=le.fit_transform(data['mc'].values)\n",
    "ast_encoded=le.fit_transform(data['ast'].values)\n",
    "bc_encoded=le.fit_transform(data['bc'].values)\n",
    "ldh_encoded=le.fit_transform(data['ldh'].values)\n",
    "Y=le.fit_transform(data['diagnosis'].values)"
   ]
  },
  {
   "cell_type": "code",
   "execution_count": 4,
   "metadata": {},
   "outputs": [
    {
     "name": "stdout",
     "output_type": "stream",
     "text": [
      "[[1 1 1 0 1 1]\n",
      " [1 1 2 0 1 0]\n",
      " [1 0 2 0 1 1]\n",
      " [1 0 2 0 0 1]\n",
      " [1 2 0 0 1 1]\n",
      " [1 2 2 0 1 0]\n",
      " [2 1 1 0 1 1]\n",
      " [2 0 2 0 1 1]\n",
      " [2 0 2 0 0 0]\n",
      " [2 2 0 0 1 1]\n",
      " [2 2 0 0 1 0]\n",
      " [0 1 1 1 1 1]\n",
      " [0 2 0 1 1 1]\n",
      " [0 2 0 1 0 0]\n",
      " [0 0 2 1 1 0]\n",
      " [1 2 0 0 0 1]\n",
      " [2 2 0 0 0 1]\n",
      " [0 1 1 1 1 0]\n",
      " [2 2 2 0 1 1]\n",
      " [2 0 2 0 1 0]\n",
      " [2 1 2 0 1 0]\n",
      " [1 0 2 0 0 0]\n",
      " [1 1 1 0 0 0]\n",
      " [0 0 2 1 1 1]\n",
      " [0 2 2 1 1 1]]\n",
      "[1 1 0 1 0 1 1 0 1 0 1 1 0 1 1 0 0 1 0 1 1 1 1 1 0]\n"
     ]
    }
   ],
   "source": [
    "X=np.array(list(zip(pc_encoded,wbc_encoded,mc_encoded,ast_encoded,bc_encoded,ldh_encoded)))\n",
    "print(X)\n",
    "print(Y)"
   ]
  },
  {
   "cell_type": "code",
   "execution_count": 10,
   "metadata": {},
   "outputs": [],
   "source": [
    "model = MultinomialNB()"
   ]
  },
  {
   "cell_type": "code",
   "execution_count": 11,
   "metadata": {},
   "outputs": [],
   "source": [
    "model = MultinomialNB()\n",
    "from sklearn.model_selection import train_test_split\n",
    "X_train,X_test,Y_train,Y_test=train_test_split(X, Y, test_size = 0.2, random_state = 111)"
   ]
  },
  {
   "cell_type": "code",
   "execution_count": 12,
   "metadata": {},
   "outputs": [],
   "source": [
    "model.fit(X_train, Y_train)\n",
    "y_pred = model.predict(X_test)"
   ]
  },
  {
   "cell_type": "code",
   "execution_count": 8,
   "metadata": {},
   "outputs": [
    {
     "name": "stdout",
     "output_type": "stream",
     "text": [
      "Accuracy: 0.8\n",
      "\n",
      "Report\n",
      "              precision    recall  f1-score   support\n",
      "\n",
      "           0       0.67      1.00      0.80         2\n",
      "           1       1.00      0.67      0.80         3\n",
      "\n",
      "    accuracy                           0.80         5\n",
      "   macro avg       0.83      0.83      0.80         5\n",
      "weighted avg       0.87      0.80      0.80         5\n",
      "\n"
     ]
    }
   ],
   "source": [
    "print(\"Accuracy:\",accuracy_score(Y_test, y_pred))\n",
    "print(\"\\nReport\")\n",
    "print(classification_report(Y_test,y_pred))"
   ]
  },
  {
   "cell_type": "code",
   "execution_count": 9,
   "metadata": {},
   "outputs": [
    {
     "data": {
      "image/png": "[encoded data removed]",
      "text/plain": [
       "<Figure size 432x288 with 1 Axes>"
      ]
     },
     "metadata": {
      "needs_background": "light"
     },
     "output_type": "display_data"
    }
   ],
   "source": [
    "y_prob = model.predict_proba(X_test)\n",
    "skplt.metrics.plot_roc(Y_test, y_prob)\n",
    "plt.show()"
   ]
  },
  {
   "cell_type": "code",
   "execution_count": null,
   "metadata": {},
   "outputs": [],
   "source": []
  }
 ],
 "metadata": {
  "kernelspec": {
   "display_name": "Python 3 (ipykernel)",
   "language": "python",
   "name": "python3"
  },
  "language_info": {
   "codemirror_mode": {
    "name": "ipython",
    "version": 3
   },
   "file_extension": ".py",
   "mimetype": "text/x-python",
   "name": "python",
   "nbconvert_exporter": "python",
   "pygments_lexer": "ipython3",
   "version": "3.7.6"
  }
 },
 "nbformat": 4,
 "nbformat_minor": 5
}
